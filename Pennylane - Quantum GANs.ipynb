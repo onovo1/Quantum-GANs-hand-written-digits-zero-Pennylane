{
 "cells": [
  {
   "cell_type": "markdown",
   "id": "28d62266",
   "metadata": {},
   "source": [
    "## Pennylane - Quantum GANs"
   ]
  },
  {
   "cell_type": "code",
   "execution_count": 6,
   "id": "1ea03ac3",
   "metadata": {},
   "outputs": [],
   "source": [
    "# Library imports\n",
    "import math\n",
    "import random\n",
    "import numpy as np\n",
    "import pandas as pd\n",
    "import matplotlib.pyplot as plt\n",
    "import matplotlib.gridspec as gridspec\n",
    "import pennylane as qml\n",
    "\n",
    "# Pytorch imports\n",
    "import torch\n",
    "import torch.nn as nn\n",
    "import torch.optim as optim\n",
    "import torchvision\n",
    "import torchvision.transforms as transforms\n",
    "from torch.utils.data import Dataset, DataLoader\n",
    "\n",
    "# Set the random seed for reproducibility\n",
    "seed = 42\n",
    "torch.manual_seed(seed)\n",
    "np.random.seed(seed)\n",
    "random.seed(seed)"
   ]
  },
  {
   "cell_type": "markdown",
   "id": "faa0dc08",
   "metadata": {},
   "source": [
    "In this notebook, we will explore quantum GANs to generate hand-written digits of zero. "
   ]
  },
  {
   "cell_type": "markdown",
   "id": "405492a9",
   "metadata": {},
   "source": [
    "In this notebook, we re-create one of the quantum GAN methods called the patch method. This method uses several quantum generators, with each sub-generator, $G^{(i)}$, responsible for constructing a small patch of the final image. The final image is contructed by concatenting all of the patches together as shown below."
   ]
  },
  {
   "cell_type": "markdown",
   "id": "62ebc97a",
   "metadata": {},
   "source": [
    "![title](GAN_patch.jpeg)"
   ]
  },
  {
   "cell_type": "markdown",
   "id": "cf637350",
   "metadata": {},
   "source": [
    "The main advantage of this method is that it is particulary suited to situations where the number of available qubits are limited. The same quantum device can be used for each sub-generator in an iterative fashion, or execution of the generators can be parallelised across multiple devices."
   ]
  },
  {
   "cell_type": "markdown",
   "id": "27a875ce",
   "metadata": {},
   "source": [
    "## DATA "
   ]
  },
  {
   "cell_type": "markdown",
   "id": "530578ee",
   "metadata": {},
   "source": [
    "For this example, we will use a [small dataset](https://archive.ics.uci.edu/dataset/80/optical+recognition+of+handwritten+digits) of handwritten zeros. First, we need to create a custom dataloader for this dataset."
   ]
  },
  {
   "cell_type": "code",
   "execution_count": 7,
   "id": "2c2d4f9a",
   "metadata": {},
   "outputs": [],
   "source": [
    "class DigitsDataset(Dataset):\n",
    "    \"\"\"Pytorch dataloader for the Optical Recognition of Handwritten Digits Data Set\"\"\"\n",
    "\n",
    "    def __init__(self, csv_file, label=0, transform=None):\n",
    "        \"\"\"\n",
    "        Args:\n",
    "            csv_file (string): Path to the csv file with annotations.\n",
    "            root_dir (string): Directory with all the images.\n",
    "            transform (callable, optional): Optional transform to be applied\n",
    "                on a sample.\n",
    "        \"\"\"\n",
    "        self.csv_file = csv_file\n",
    "        self.transform = transform\n",
    "        self.df = self.filter_by_label(label)\n",
    "\n",
    "    def filter_by_label(self, label):\n",
    "        # Use pandas to return a dataframe of only zeros\n",
    "        df = pd.read_csv(self.csv_file)\n",
    "        df = df.loc[df.iloc[:, -1] == label]\n",
    "        return df\n",
    "\n",
    "    def __len__(self):\n",
    "        return len(self.df)\n",
    "\n",
    "    def __getitem__(self, idx):\n",
    "        if torch.is_tensor(idx):\n",
    "            idx = idx.tolist()\n",
    "\n",
    "        image = self.df.iloc[idx, :-1] / 16\n",
    "        image = np.array(image)\n",
    "        image = image.astype(np.float32).reshape(8, 8)\n",
    "\n",
    "        if self.transform:\n",
    "            image = self.transform(image)\n",
    "\n",
    "        # Return image and label\n",
    "        return image, 0"
   ]
  },
  {
   "cell_type": "markdown",
   "id": "ec4e1e8c",
   "metadata": {},
   "source": [
    "Next we define some variables and create the dataloader instance."
   ]
  },
  {
   "cell_type": "code",
   "execution_count": 9,
   "id": "83fe2bfc",
   "metadata": {},
   "outputs": [],
   "source": [
    "image_size = 8  # Height / width of the square images\n",
    "batch_size = 1\n",
    "\n",
    "transform = transforms.Compose([transforms.ToTensor()])\n",
    "dataset = DigitsDataset(csv_file=\"./optdigits.tra\", transform=transform)\n",
    "dataloader = torch.utils.data.DataLoader(\n",
    "    dataset, batch_size=batch_size, shuffle=True, drop_last=True\n",
    ")"
   ]
  },
  {
   "cell_type": "markdown",
   "id": "1bb6872f",
   "metadata": {},
   "source": [
    "Let’s visualize some of the data."
   ]
  },
  {
   "cell_type": "code",
   "execution_count": 10,
   "id": "e9f7dcaa",
   "metadata": {},
   "outputs": [
    {
     "data": {
      "image/png": "[encoded data removed]",
      "text/plain": [
       "<Figure size 800x200 with 8 Axes>"
      ]
     },
     "metadata": {},
     "output_type": "display_data"
    }
   ],
   "source": [
    "plt.figure(figsize=(8,2))\n",
    "\n",
    "for i in range(8):\n",
    "    image = dataset[i][0].reshape(image_size,image_size)\n",
    "    plt.subplot(1,8,i+1)\n",
    "    plt.axis('off')\n",
    "    plt.imshow(image.numpy(), cmap='gray')\n",
    "\n",
    "plt.show()"
   ]
  },
  {
   "cell_type": "markdown",
   "id": "559d5707",
   "metadata": {},
   "source": [
    "## Implementing the Classical Discriminator"
   ]
  },
  {
   "cell_type": "markdown",
   "id": "6c91637b",
   "metadata": {},
   "source": [
    "For the discriminator, we use a fully connected neural network with two hidden layers. A single output is sufficient to represent the probability of an input being classified as real."
   ]
  },
  {
   "cell_type": "code",
   "execution_count": 11,
   "id": "50b48188",
   "metadata": {},
   "outputs": [],
   "source": [
    "class Discriminator(nn.Module):\n",
    "    \"\"\"Fully connected classical discriminator\"\"\"\n",
    "\n",
    "    def __init__(self):\n",
    "        super().__init__()\n",
    "\n",
    "        self.model = nn.Sequential(\n",
    "            # Inputs to first hidden layer (num_input_features -> 64)\n",
    "            nn.Linear(image_size * image_size, 64),\n",
    "            nn.ReLU(),\n",
    "            # First hidden layer (64 -> 16)\n",
    "            nn.Linear(64, 16),\n",
    "            nn.ReLU(),\n",
    "            # Second hidden layer (16 -> output)\n",
    "            nn.Linear(16, 1),\n",
    "            nn.Sigmoid(),\n",
    "        )\n",
    "\n",
    "    def forward(self, x):\n",
    "        return self.model(x)"
   ]
  },
  {
   "cell_type": "markdown",
   "id": "465e630c",
   "metadata": {},
   "source": [
    "## Implementing the Quantum Generator"
   ]
  },
  {
   "cell_type": "markdown",
   "id": "cfc14666",
   "metadata": {},
   "source": [
    "Each sub-generator, $G{(i)}$, shares the same circuit architecture as shown below. The overall quantum generator consists of $N_G$ sub-generators, each consisting of $N$ qubits. The process from latent vector input to image output can be split into four distinct sections: state embedding, parameterisation, non-linear transformation, and post-processing. Each of the following sections below refer to a single iteration of the training process to simplify the discussion. "
   ]
  },
  {
   "cell_type": "markdown",
   "id": "7c691d8c",
   "metadata": {},
   "source": [
    "![title](qcircuit.jpeg)"
   ]
  },
  {
   "cell_type": "markdown",
   "id": "cfdb1ea2",
   "metadata": {},
   "source": [
    "###  State Embedding"
   ]
  },
  {
   "cell_type": "markdown",
   "id": "b71edb87",
   "metadata": {},
   "source": [
    "A latent vector, $z∈R^N$, is sampled from a uniform distribution in the interval $[0,π/2)$. All sub-generators receive the same latent vector which is then embedded using $RY$ gates."
   ]
  },
  {
   "cell_type": "markdown",
   "id": "2f282a74",
   "metadata": {},
   "source": [
    "### Parameterised Layers"
   ]
  },
  {
   "cell_type": "markdown",
   "id": "9e46e997",
   "metadata": {},
   "source": [
    "The parameterised layer consists of parameterised $RY$ gates followed by control Z gates. This layer is repeated $D$ times in total."
   ]
  },
  {
   "cell_type": "markdown",
   "id": "cdcf6c65",
   "metadata": {},
   "source": [
    "### Non-Linear Transform"
   ]
  },
  {
   "cell_type": "markdown",
   "id": "ded451e6",
   "metadata": {},
   "source": [
    "Quantum gates in the circuit model are unitary which, by definition, linearly transform the quantum state. A linear mapping between the latent and generator distribution would suffice for only the most simple generative tasks, hence we need non-linear transformations. We will use ancillary qubits to help.\n",
    "\n",
    "For a given sub-generator, the pre-measurement quantum state is given by,\n",
    "\n",
    "$|Ψ(z)⟩=U_G(θ)|z⟩$\n",
    "\n",
    "where $U_G(θ)$\n",
    "represents the overall unitary of the parameterised layers. Let us inspect the state when we take a partial measurment, Π, and trace out the ancillary subsystem, A,\n",
    "\n",
    "$ρ(z)=\\frac{TrA(Π⊗I|Ψ(z)⟩⟨Ψ(z)|)}{Tr(Π⊗I|Ψ(z)⟩⟨Ψ(z)|))}=\\frac{TrA(Π⊗I|Ψ(z)⟩⟨Ψ(z)|)}{⟨Ψ(z)|Π⊗I|Ψ(z)⟩}$\n",
    "\n",
    "The post-measurement state, $ρ(z)$\n",
    ", is dependent on z in both the numerator and denominator. This means the state has been non-linearly transformed! For this tutorial, $Π=(|0⟩⟨0|)^{⊗N_A}$, where $N_A$\n",
    "\n",
    "is the number of ancillary qubits in the system.\n",
    "\n",
    "With the remaining data qubits, we measure the probability of $ρ(z)$ in each computational basis state, $P(j)$, to obtain the sub-generator output, $g(i)$,\n",
    "\n",
    "$g^{(i)}=[P(0),P(1),...,P(2^{N−N_A}−1)]$"
   ]
  },
  {
   "cell_type": "markdown",
   "id": "cc98879f",
   "metadata": {},
   "source": [
    "### Post Processing"
   ]
  },
  {
   "cell_type": "markdown",
   "id": "bbde8967",
   "metadata": {},
   "source": [
    "Due to the normalisation constraint of the measurment, all elements in $g^{(i)}$ must sum to one. This is a problem if we are to use $g^{(i)}$ as the pixel intensity values for our patch. For example, imagine a hypothetical situation where a patch of full intensity pixels was the target. The best patch a sub-generator could produce would be a patch of pixels all at a magnitude of $\\frac{1}{2^{N−N_A}}$. To alleviate this constraint, we apply a post-processing technique to each patch,\n",
    "\n",
    "$x^{(i)}=\\frac{g^{(i)}}{max_kg^{(i)}_k}$\n",
    "\n",
    "Therefore, the final image, $x$, is given by\n",
    "\n",
    "$x=[x^{(1)},...,x^{(N_G)}]$"
   ]
  },
  {
   "cell_type": "code",
   "execution_count": 12,
   "id": "f9c815ea",
   "metadata": {},
   "outputs": [],
   "source": [
    "# Quantum variables\n",
    "n_qubits = 5  # Total number of qubits / N\n",
    "n_a_qubits = 1  # Number of ancillary qubits / N_A\n",
    "q_depth = 6  # Depth of the parameterised quantum circuit / D\n",
    "n_generators = 4  # Number of subgenerators for the patch method / N_G"
   ]
  },
  {
   "cell_type": "markdown",
   "id": "04f04bc4",
   "metadata": {},
   "source": [
    "Now we define the quantum device we want to use, along with any available CUDA GPUs (if available)."
   ]
  },
  {
   "cell_type": "code",
   "execution_count": 13,
   "id": "5c4bb9da",
   "metadata": {},
   "outputs": [],
   "source": [
    "# Quantum simulator\n",
    "dev = qml.device(\"lightning.qubit\", wires=n_qubits)\n",
    "# Enable CUDA device if available\n",
    "device = torch.device(\"cuda:0\" if torch.cuda.is_available() else \"cpu\")"
   ]
  },
  {
   "cell_type": "markdown",
   "id": "4349ca42",
   "metadata": {},
   "source": [
    "Next, we define the quantum circuit and measurement process described above."
   ]
  },
  {
   "cell_type": "code",
   "execution_count": 14,
   "id": "bafba324",
   "metadata": {},
   "outputs": [],
   "source": [
    "@qml.qnode(dev, interface=\"torch\", diff_method=\"parameter-shift\")\n",
    "def quantum_circuit(noise, weights):\n",
    "\n",
    "    weights = weights.reshape(q_depth, n_qubits)\n",
    "\n",
    "    # Initialise latent vectors\n",
    "    for i in range(n_qubits):\n",
    "        qml.RY(noise[i], wires=i)\n",
    "\n",
    "    # Repeated layer\n",
    "    for i in range(q_depth):\n",
    "        # Parameterised layer\n",
    "        for y in range(n_qubits):\n",
    "            qml.RY(weights[i][y], wires=y)\n",
    "\n",
    "        # Control Z gates\n",
    "        for y in range(n_qubits - 1):\n",
    "            qml.CZ(wires=[y, y + 1])\n",
    "\n",
    "    return qml.probs(wires=list(range(n_qubits)))\n",
    "\n",
    "\n",
    "# For further info on how the non-linear transform is implemented in Pennylane\n",
    "# https://discuss.pennylane.ai/t/ancillary-subsystem-measurement-then-trace-out/1532\n",
    "def partial_measure(noise, weights):\n",
    "    # Non-linear Transform\n",
    "    probs = quantum_circuit(noise, weights)\n",
    "    probsgiven0 = probs[: (2 ** (n_qubits - n_a_qubits))]\n",
    "    probsgiven0 /= torch.sum(probs)\n",
    "\n",
    "    # Post-Processing\n",
    "    probsgiven = probsgiven0 / torch.max(probsgiven0)\n",
    "    return probsgiven"
   ]
  },
  {
   "cell_type": "markdown",
   "id": "3ee83cb8",
   "metadata": {},
   "source": [
    "Now we create a quantum generator class to use during training."
   ]
  },
  {
   "cell_type": "code",
   "execution_count": 15,
   "id": "431ac340",
   "metadata": {},
   "outputs": [],
   "source": [
    "class PatchQuantumGenerator(nn.Module):\n",
    "    \"\"\"Quantum generator class for the patch method\"\"\"\n",
    "\n",
    "    def __init__(self, n_generators, q_delta=1):\n",
    "        \"\"\"\n",
    "        Args:\n",
    "            n_generators (int): Number of sub-generators to be used in the patch method.\n",
    "            q_delta (float, optional): Spread of the random distribution for parameter initialisation.\n",
    "        \"\"\"\n",
    "\n",
    "        super().__init__()\n",
    "\n",
    "        self.q_params = nn.ParameterList(\n",
    "            [\n",
    "                nn.Parameter(q_delta * torch.rand(q_depth * n_qubits), requires_grad=True)\n",
    "                for _ in range(n_generators)\n",
    "            ]\n",
    "        )\n",
    "        self.n_generators = n_generators\n",
    "\n",
    "    def forward(self, x):\n",
    "        # Size of each sub-generator output\n",
    "        patch_size = 2 ** (n_qubits - n_a_qubits)\n",
    "\n",
    "        # Create a Tensor to 'catch' a batch of images from the for loop. x.size(0) is the batch size.\n",
    "        images = torch.Tensor(x.size(0), 0).to(device)\n",
    "\n",
    "        # Iterate over all sub-generators\n",
    "        for params in self.q_params:\n",
    "\n",
    "            # Create a Tensor to 'catch' a batch of the patches from a single sub-generator\n",
    "            patches = torch.Tensor(0, patch_size).to(device)\n",
    "            for elem in x:\n",
    "                q_out = partial_measure(elem, params).float().unsqueeze(0)\n",
    "                patches = torch.cat((patches, q_out))\n",
    "\n",
    "            # Each batch of patches is concatenated with each other to create a batch of images\n",
    "            images = torch.cat((images, patches), 1)\n",
    "\n",
    "        return images"
   ]
  },
  {
   "cell_type": "markdown",
   "id": "e66e4264",
   "metadata": {},
   "source": [
    "## Training"
   ]
  },
  {
   "cell_type": "markdown",
   "id": "780b1b50",
   "metadata": {},
   "source": [
    "Let’s define learning rates and number of iterations for the training process."
   ]
  },
  {
   "cell_type": "code",
   "execution_count": 16,
   "id": "872b3980",
   "metadata": {},
   "outputs": [],
   "source": [
    "lrG = 0.3  # Learning rate for the generator\n",
    "lrD = 0.01  # Learning rate for the discriminator\n",
    "num_iter = 500  # Number of training iterations"
   ]
  },
  {
   "cell_type": "markdown",
   "id": "da1adef4",
   "metadata": {},
   "source": [
    "Now putting everything together and executing the training process."
   ]
  },
  {
   "cell_type": "code",
   "execution_count": 17,
   "id": "f909199f",
   "metadata": {},
   "outputs": [
    {
     "name": "stdout",
     "output_type": "stream",
     "text": [
      "Iteration: 10, Discriminator Loss: 1.356, Generator Loss: 0.597\n",
      "Iteration: 20, Discriminator Loss: 1.325, Generator Loss: 0.621\n",
      "Iteration: 30, Discriminator Loss: 1.333, Generator Loss: 0.615\n",
      "Iteration: 40, Discriminator Loss: 1.304, Generator Loss: 0.633\n",
      "Iteration: 50, Discriminator Loss: 1.275, Generator Loss: 0.648\n",
      "Iteration: 60, Discriminator Loss: 1.222, Generator Loss: 0.670\n",
      "Iteration: 70, Discriminator Loss: 1.267, Generator Loss: 0.627\n",
      "Iteration: 80, Discriminator Loss: 1.253, Generator Loss: 0.647\n",
      "Iteration: 90, Discriminator Loss: 1.256, Generator Loss: 0.624\n",
      "Iteration: 100, Discriminator Loss: 1.249, Generator Loss: 0.627\n",
      "Iteration: 110, Discriminator Loss: 1.177, Generator Loss: 0.660\n",
      "Iteration: 120, Discriminator Loss: 1.175, Generator Loss: 0.633\n",
      "Iteration: 130, Discriminator Loss: 1.210, Generator Loss: 0.664\n",
      "Iteration: 140, Discriminator Loss: 1.231, Generator Loss: 0.605\n",
      "Iteration: 150, Discriminator Loss: 1.252, Generator Loss: 0.606\n",
      "Iteration: 160, Discriminator Loss: 1.338, Generator Loss: 0.552\n",
      "Iteration: 170, Discriminator Loss: 1.258, Generator Loss: 0.594\n",
      "Iteration: 180, Discriminator Loss: 1.235, Generator Loss: 0.611\n",
      "Iteration: 190, Discriminator Loss: 1.281, Generator Loss: 0.605\n",
      "Iteration: 200, Discriminator Loss: 1.199, Generator Loss: 0.704\n",
      "Iteration: 210, Discriminator Loss: 1.236, Generator Loss: 0.646\n",
      "Iteration: 220, Discriminator Loss: 1.349, Generator Loss: 0.618\n",
      "Iteration: 230, Discriminator Loss: 1.272, Generator Loss: 0.613\n",
      "Iteration: 240, Discriminator Loss: 1.103, Generator Loss: 0.723\n",
      "Iteration: 250, Discriminator Loss: 1.126, Generator Loss: 0.692\n",
      "Iteration: 260, Discriminator Loss: 1.220, Generator Loss: 0.627\n",
      "Iteration: 270, Discriminator Loss: 1.083, Generator Loss: 0.717\n",
      "Iteration: 280, Discriminator Loss: 1.183, Generator Loss: 0.666\n",
      "Iteration: 290, Discriminator Loss: 1.109, Generator Loss: 0.796\n",
      "Iteration: 300, Discriminator Loss: 1.109, Generator Loss: 0.801\n",
      "Iteration: 310, Discriminator Loss: 1.063, Generator Loss: 0.810\n",
      "Iteration: 320, Discriminator Loss: 1.064, Generator Loss: 0.832\n",
      "Iteration: 330, Discriminator Loss: 1.109, Generator Loss: 0.779\n",
      "Iteration: 340, Discriminator Loss: 0.983, Generator Loss: 0.854\n",
      "Iteration: 350, Discriminator Loss: 1.090, Generator Loss: 0.739\n",
      "Iteration: 360, Discriminator Loss: 0.947, Generator Loss: 0.843\n",
      "Iteration: 370, Discriminator Loss: 1.029, Generator Loss: 0.826\n",
      "Iteration: 380, Discriminator Loss: 1.101, Generator Loss: 0.828\n",
      "Iteration: 390, Discriminator Loss: 0.928, Generator Loss: 0.872\n",
      "Iteration: 400, Discriminator Loss: 1.107, Generator Loss: 0.707\n",
      "Iteration: 410, Discriminator Loss: 1.219, Generator Loss: 0.692\n",
      "Iteration: 420, Discriminator Loss: 1.053, Generator Loss: 0.959\n",
      "Iteration: 430, Discriminator Loss: 0.821, Generator Loss: 1.073\n",
      "Iteration: 440, Discriminator Loss: 1.035, Generator Loss: 0.806\n",
      "Iteration: 450, Discriminator Loss: 0.801, Generator Loss: 1.055\n",
      "Iteration: 460, Discriminator Loss: 0.897, Generator Loss: 0.998\n",
      "Iteration: 470, Discriminator Loss: 0.807, Generator Loss: 1.102\n",
      "Iteration: 480, Discriminator Loss: 1.222, Generator Loss: 0.776\n",
      "Iteration: 490, Discriminator Loss: 0.610, Generator Loss: 1.284\n",
      "Iteration: 500, Discriminator Loss: 0.761, Generator Loss: 1.148\n"
     ]
    }
   ],
   "source": [
    "discriminator = Discriminator().to(device)\n",
    "generator = PatchQuantumGenerator(n_generators).to(device)\n",
    "\n",
    "# Binary cross entropy\n",
    "criterion = nn.BCELoss()\n",
    "\n",
    "# Optimisers\n",
    "optD = optim.SGD(discriminator.parameters(), lr=lrD)\n",
    "optG = optim.SGD(generator.parameters(), lr=lrG)\n",
    "\n",
    "real_labels = torch.full((batch_size,), 1.0, dtype=torch.float, device=device)\n",
    "fake_labels = torch.full((batch_size,), 0.0, dtype=torch.float, device=device)\n",
    "\n",
    "# Fixed noise allows us to visually track the generated images throughout training\n",
    "fixed_noise = torch.rand(8, n_qubits, device=device) * math.pi / 2\n",
    "\n",
    "# Iteration counter\n",
    "counter = 0\n",
    "\n",
    "# Collect images for plotting later\n",
    "results = []\n",
    "\n",
    "while True:\n",
    "    for i, (data, _) in enumerate(dataloader):\n",
    "\n",
    "        # Data for training the discriminator\n",
    "        data = data.reshape(-1, image_size * image_size)\n",
    "        real_data = data.to(device)\n",
    "\n",
    "        # Noise following a uniform distribution in range [0,pi/2)\n",
    "        noise = torch.rand(batch_size, n_qubits, device=device) * math.pi / 2\n",
    "        fake_data = generator(noise)\n",
    "\n",
    "        # Training the discriminator\n",
    "        discriminator.zero_grad()\n",
    "        outD_real = discriminator(real_data).view(-1)\n",
    "        outD_fake = discriminator(fake_data.detach()).view(-1)\n",
    "\n",
    "        errD_real = criterion(outD_real, real_labels)\n",
    "        errD_fake = criterion(outD_fake, fake_labels)\n",
    "        # Propagate gradients\n",
    "        errD_real.backward()\n",
    "        errD_fake.backward()\n",
    "\n",
    "        errD = errD_real + errD_fake\n",
    "        optD.step()\n",
    "\n",
    "        # Training the generator\n",
    "        generator.zero_grad()\n",
    "        outD_fake = discriminator(fake_data).view(-1)\n",
    "        errG = criterion(outD_fake, real_labels)\n",
    "        errG.backward()\n",
    "        optG.step()\n",
    "\n",
    "        counter += 1\n",
    "\n",
    "        # Show loss values\n",
    "        if counter % 10 == 0:\n",
    "            print(f'Iteration: {counter}, Discriminator Loss: {errD:0.3f}, Generator Loss: {errG:0.3f}')\n",
    "            test_images = generator(fixed_noise).view(8,1,image_size,image_size).cpu().detach()\n",
    "\n",
    "            # Save images every 50 iterations\n",
    "            if counter % 50 == 0:\n",
    "                results.append(test_images)\n",
    "\n",
    "        if counter == num_iter:\n",
    "            break\n",
    "    if counter == num_iter:\n",
    "        break"
   ]
  },
  {
   "cell_type": "markdown",
   "id": "7cbd1203",
   "metadata": {},
   "source": [
    "Finally, we plot how the generated images evolved throughout training."
   ]
  },
  {
   "cell_type": "code",
   "execution_count": 18,
   "id": "aef65ccd",
   "metadata": {},
   "outputs": [
    {
     "data": {
      "image/png": "[encoded data removed]",
      "text/plain": [
       "<Figure size 1000x500 with 80 Axes>"
      ]
     },
     "metadata": {},
     "output_type": "display_data"
    }
   ],
   "source": [
    "fig = plt.figure(figsize=(10, 5))\n",
    "outer = gridspec.GridSpec(5, 2, wspace=0.1)\n",
    "\n",
    "for i, images in enumerate(results):\n",
    "    inner = gridspec.GridSpecFromSubplotSpec(1, images.size(0),\n",
    "                    subplot_spec=outer[i])\n",
    "\n",
    "    images = torch.squeeze(images, dim=1)\n",
    "    for j, im in enumerate(images):\n",
    "\n",
    "        ax = plt.Subplot(fig, inner[j])\n",
    "        ax.imshow(im.numpy(), cmap=\"gray\")\n",
    "        ax.set_xticks([])\n",
    "        ax.set_yticks([])\n",
    "        if j==0:\n",
    "            ax.set_title(f'Iteration {50+i*50}', loc='left')\n",
    "        fig.add_subplot(ax)\n",
    "\n",
    "plt.show()"
   ]
  },
  {
   "cell_type": "markdown",
   "id": "da16577d",
   "metadata": {},
   "source": [
    "## References "
   ]
  },
  {
   "cell_type": "markdown",
   "id": "c30e848c",
   "metadata": {},
   "source": [
    "[Pennylane - Tutorial Quantum GANs](https://pennylane.ai/qml/demos/tutorial_quantum_gans)"
   ]
  }
 ],
 "metadata": {
  "kernelspec": {
   "display_name": "Python 3 (ipykernel)",
   "language": "python",
   "name": "python3"
  },
  "language_info": {
   "codemirror_mode": {
    "name": "ipython",
    "version": 3
   },
   "file_extension": ".py",
   "mimetype": "text/x-python",
   "name": "python",
   "nbconvert_exporter": "python",
   "pygments_lexer": "ipython3",
   "version": "3.9.13"
  }
 },
 "nbformat": 4,
 "nbformat_minor": 5
}
